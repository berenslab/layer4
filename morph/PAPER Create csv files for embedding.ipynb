{
 "cells": [
  {
   "cell_type": "code",
   "execution_count": 1,
   "metadata": {},
   "outputs": [],
   "source": [
    "import os\n",
    "import numpy as np\n",
    "import pandas as pd\n",
    "import pickle \n",
    "\n",
    "from scripts.utils_ import load_data"
   ]
  },
  {
   "cell_type": "code",
   "execution_count": 3,
   "metadata": {},
   "outputs": [],
   "source": [
    "part = 'full'\n",
    "path_dm = \"./data/density_maps/aligned_globally/\"+part+\"/xz/\"\n",
    "restriction_v1 = [\"MC\",\"LBC\", \"SBC\", \"DBC\", \"BPC\", \"HBC\", \"NGC\"]\n",
    "\n",
    "restriction = restriction_v1\n",
    "desc_dm, data_dm = load_data(path_dm, restriction=restriction)"
   ]
  },
  {
   "cell_type": "code",
   "execution_count": 4,
   "metadata": {},
   "outputs": [],
   "source": [
    "dm = pd.DataFrame(data=np.hstack((desc_dm.values, data_dm)))\n",
    "dm = dm.rename(columns={0:'name', 1:'type'}).set_index(['name', 'type'])"
   ]
  },
  {
   "cell_type": "code",
   "execution_count": 5,
   "metadata": {},
   "outputs": [],
   "source": [
    "dm.to_csv('./data/density_map_xz_'+part+'.csv')"
   ]
  },
  {
   "cell_type": "code",
   "execution_count": 6,
   "metadata": {},
   "outputs": [],
   "source": [
    "morph = pd.read_csv('./data/morphometrics/'+part+'/morphometrics.csv')\n",
    "del morph['Unnamed: 0']\n",
    "\n",
    "morph = morph[morph['type'] != 'NMC']"
   ]
  },
  {
   "cell_type": "code",
   "execution_count": 7,
   "metadata": {},
   "outputs": [
    {
     "data": {
      "text/plain": [
       "Index(['branch_points', 'depth', 'height', 'max_branch_angle',\n",
       "       'max_branch_order', 'max_path_angle', 'max_path_dist_to_soma',\n",
       "       'max_segment_length', 'max_tortuosity', 'mean_branch_angle',\n",
       "       'mean_intial_segment_radius', 'mean_neurite_radius', 'mean_path_angle',\n",
       "       'mean_tortuosity', 'min_branch_angle', 'min_path_angle',\n",
       "       'min_tortuosity', 'name', 'soma_radius', 'stems', 'tips',\n",
       "       'total_length', 'type', 'width'],\n",
       "      dtype='object')"
      ]
     },
     "execution_count": 7,
     "metadata": {},
     "output_type": "execute_result"
    }
   ],
   "source": [
    "morph.columns"
   ]
  },
  {
   "cell_type": "code",
   "execution_count": 8,
   "metadata": {},
   "outputs": [],
   "source": [
    "morph.to_csv('./data/morphometric_statistic_'+part+'.csv',index=False)"
   ]
  }
 ],
 "metadata": {
  "kernelspec": {
   "display_name": "Python 3",
   "language": "python",
   "name": "python3"
  },
  "language_info": {
   "codemirror_mode": {
    "name": "ipython",
    "version": 3
   },
   "file_extension": ".py",
   "mimetype": "text/x-python",
   "name": "python",
   "nbconvert_exporter": "python",
   "pygments_lexer": "ipython3",
   "version": "3.5.2"
  }
 },
 "nbformat": 4,
 "nbformat_minor": 2
}
