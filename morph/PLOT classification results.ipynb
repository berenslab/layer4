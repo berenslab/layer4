{
 "cells": [
  {
   "cell_type": "code",
   "execution_count": 1,
   "metadata": {
    "collapsed": false,
    "deletable": true,
    "editable": true
   },
   "outputs": [],
   "source": [
    "import numpy as np\n",
    "import pandas as pd\n",
    "import copy\n",
    "import os \n",
    "import pickle\n",
    "import glmnet\n",
    "\n",
    "from sklearn.decomposition import PCA\n",
    "from scripts.utils_ import load_data\n",
    "\n",
    "import matplotlib.pyplot as plt\n",
    "import seaborn as sns\n",
    "%matplotlib inline"
   ]
  },
  {
   "cell_type": "markdown",
   "metadata": {
    "deletable": true,
    "editable": true
   },
   "source": [
    "### plot dataset stats"
   ]
  },
  {
   "cell_type": "code",
   "execution_count": 2,
   "metadata": {
    "collapsed": false,
    "deletable": true,
    "editable": true
   },
   "outputs": [
    {
     "data": {
      "text/html": [
       "<div>\n",
       "<style>\n",
       "    .dataframe thead tr:only-child th {\n",
       "        text-align: right;\n",
       "    }\n",
       "\n",
       "    .dataframe thead th {\n",
       "        text-align: left;\n",
       "    }\n",
       "\n",
       "    .dataframe tbody tr th {\n",
       "        vertical-align: top;\n",
       "    }\n",
       "</style>\n",
       "<table border=\"1\" class=\"dataframe\">\n",
       "  <thead>\n",
       "    <tr style=\"text-align: right;\">\n",
       "      <th></th>\n",
       "      <th>Unnamed: 0</th>\n",
       "      <th>swc</th>\n",
       "      <th>path</th>\n",
       "      <th>ds_id</th>\n",
       "    </tr>\n",
       "    <tr>\n",
       "      <th>type</th>\n",
       "      <th></th>\n",
       "      <th></th>\n",
       "      <th></th>\n",
       "      <th></th>\n",
       "    </tr>\n",
       "  </thead>\n",
       "  <tbody>\n",
       "    <tr>\n",
       "      <th>BC</th>\n",
       "      <td>28</td>\n",
       "      <td>28</td>\n",
       "      <td>28</td>\n",
       "      <td>28</td>\n",
       "    </tr>\n",
       "    <tr>\n",
       "      <th>BPC</th>\n",
       "      <td>12</td>\n",
       "      <td>12</td>\n",
       "      <td>12</td>\n",
       "      <td>12</td>\n",
       "    </tr>\n",
       "    <tr>\n",
       "      <th>DBC</th>\n",
       "      <td>12</td>\n",
       "      <td>12</td>\n",
       "      <td>12</td>\n",
       "      <td>12</td>\n",
       "    </tr>\n",
       "    <tr>\n",
       "      <th>HEC</th>\n",
       "      <td>8</td>\n",
       "      <td>8</td>\n",
       "      <td>8</td>\n",
       "      <td>8</td>\n",
       "    </tr>\n",
       "    <tr>\n",
       "      <th>MC</th>\n",
       "      <td>12</td>\n",
       "      <td>12</td>\n",
       "      <td>12</td>\n",
       "      <td>12</td>\n",
       "    </tr>\n",
       "    <tr>\n",
       "      <th>NFC</th>\n",
       "      <td>9</td>\n",
       "      <td>9</td>\n",
       "      <td>9</td>\n",
       "      <td>9</td>\n",
       "    </tr>\n",
       "    <tr>\n",
       "      <th>SC</th>\n",
       "      <td>11</td>\n",
       "      <td>11</td>\n",
       "      <td>11</td>\n",
       "      <td>11</td>\n",
       "    </tr>\n",
       "    <tr>\n",
       "      <th>SOM L4 S1</th>\n",
       "      <td>8</td>\n",
       "      <td>8</td>\n",
       "      <td>8</td>\n",
       "      <td>8</td>\n",
       "    </tr>\n",
       "  </tbody>\n",
       "</table>\n",
       "</div>"
      ],
      "text/plain": [
       "           Unnamed: 0  swc  path  ds_id\n",
       "type                                   \n",
       "BC                 28   28    28     28\n",
       "BPC                12   12    12     12\n",
       "DBC                12   12    12     12\n",
       "HEC                 8    8     8      8\n",
       "MC                 12   12    12     12\n",
       "NFC                 9    9     9      9\n",
       "SC                 11   11    11     11\n",
       "SOM L4 S1           8    8     8      8"
      ]
     },
     "execution_count": 2,
     "metadata": {},
     "output_type": "execute_result"
    }
   ],
   "source": [
    "dataset = pd.read_csv(\"./data/dataset_description.csv\")\n",
    "dataset.groupby(['type']).count()"
   ]
  },
  {
   "cell_type": "code",
   "execution_count": 4,
   "metadata": {
    "collapsed": false,
    "deletable": true,
    "editable": true,
    "scrolled": true
   },
   "outputs": [],
   "source": [
    "v1_morph = pd.read_csv(\"./results/classification/two_features_full__res_MC_BC_SC_DBC_BPC_HEC_NFC_alpha_05.csv\")\n",
    "v1_ephys = pd.read_csv(\"./results/classification/ephys.csv\")\n",
    "\n",
    "del v1_morph['Unnamed: 0']\n",
    "del v1_ephys['Unnamed: 0']"
   ]
  },
  {
   "cell_type": "markdown",
   "metadata": {
    "deletable": true,
    "editable": true
   },
   "source": [
    "# Plot performance matrix for V1: morphology"
   ]
  },
  {
   "cell_type": "markdown",
   "metadata": {
    "deletable": true,
    "editable": true
   },
   "source": [
    "## all "
   ]
  },
  {
   "cell_type": "code",
   "execution_count": 5,
   "metadata": {
    "collapsed": true,
    "deletable": true,
    "editable": true
   },
   "outputs": [],
   "source": [
    "data = copy.copy(v1_morph)\n",
    "\n",
    "s='avg_test_score'\n",
    "p = data.pivot_table(index='group_a', columns='group_b', values=s, fill_value=0)\n",
    "index = p.index.union(p.columns).values\n",
    "order = ['BC','DBC','SC','HEC','MC','BPC', 'NFC']\n",
    "p = p.reindex(index=order, columns=order, fill_value=0)\n",
    "\n",
    "r = p.values\n",
    "r = r + r.T"
   ]
  },
  {
   "cell_type": "code",
   "execution_count": 6,
   "metadata": {
    "collapsed": false,
    "deletable": true,
    "editable": true
   },
   "outputs": [
    {
     "data": {
      "text/plain": [
       "Text(0.5,1,'Classification: Morphology full')"
      ]
     },
     "execution_count": 6,
     "metadata": {},
     "output_type": "execute_result"
    },
    {
     "data": {
      "image/png": "[encoded data removed]",
      "text/plain": [
       "<Figure size 432x288 with 2 Axes>"
      ]
     },
     "metadata": {},
     "output_type": "display_data"
    }
   ],
   "source": [
    "\n",
    "mask = np.zeros_like(p, dtype=np.bool)\n",
    "mask[np.tril_indices_from(mask)] = True\n",
    "\n",
    "sns.heatmap(r, mask=mask, cmap='Greys', vmin=.5, vmax=1, center=.75, square=True, linewidths=.5,\n",
    "                   cbar_kws={\"shrink\": .5}, annot=True)\n",
    "plt.gca().set_xticklabels(order, rotation=0)\n",
    "plt.xlabel('')\n",
    "plt.gca().set_yticklabels(order, rotation=0)\n",
    "plt.ylabel('')\n",
    "plt.title('Classification: Morphology full', weight='bold')"
   ]
  },
  {
   "cell_type": "code",
   "execution_count": 7,
   "metadata": {
    "collapsed": false,
    "deletable": true,
    "editable": true
   },
   "outputs": [
    {
     "data": {
      "text/plain": [
       "0.9202755102040816"
      ]
     },
     "execution_count": 7,
     "metadata": {},
     "output_type": "execute_result"
    }
   ],
   "source": [
    "np.mean(p.values[p.values != 0])"
   ]
  },
  {
   "cell_type": "code",
   "execution_count": 8,
   "metadata": {
    "collapsed": false,
    "deletable": true,
    "editable": true
   },
   "outputs": [
    {
     "data": {
      "image/png": "[encoded data removed]",
      "text/plain": [
       "<Figure size 432x288 with 1 Axes>"
      ]
     },
     "metadata": {},
     "output_type": "display_data"
    }
   ],
   "source": [
    "mask = np.zeros_like(p, dtype=np.bool)\n",
    "mask[np.tril_indices_from(mask)] = True\n",
    "\n",
    "sns.heatmap(r, mask=mask, cmap='Greys', vmin=.5, vmax=1, center=.75, square=True, linewidths=.5,\n",
    "                   cbar=False, annot=True,fmt='.2f')\n",
    "plt.gca().set_xticklabels(order, rotation=0)\n",
    "plt.xlabel('')\n",
    "plt.gca().set_yticklabels(order, rotation=0)\n",
    "plt.ylabel('')\n",
    "plt.gca().tick_params(axis='both', which='both', length=0)\n",
    "plt.savefig('./pics/paper/classification_morphology_full_neuron.svg')\n",
    "plt.savefig('./pics/paper/classification_morphology_full_neuron.png')"
   ]
  },
  {
   "cell_type": "markdown",
   "metadata": {
    "deletable": true,
    "editable": true
   },
   "source": [
    "## Plot performance matrix for V1: ephys"
   ]
  },
  {
   "cell_type": "code",
   "execution_count": 50,
   "metadata": {
    "collapsed": false,
    "deletable": true,
    "editable": true
   },
   "outputs": [],
   "source": [
    "data = copy.copy(v1_ephys)\n",
    "\n",
    "data.loc[data['group_a'] == 'sBC','group_a'] = 'SC'\n",
    "data.loc[data['group_b'] == 'sBC','group_b'] = 'SC'\n",
    "\n",
    "data.loc[data['group_a'] == 'NFG','group_a'] = 'NFC'\n",
    "data.loc[data['group_b'] == 'NFG','group_b'] = 'NFC'\n",
    "\n",
    "s='avg_test_score'\n",
    "p = data.pivot_table(index='group_a', columns='group_b', values=s, fill_value=0)\n",
    "index = p.index.union(p.columns).values\n",
    "order = ['PYR','BC','DBC','SC','HEC','MC','BPC', 'NFC']\n",
    "p = p.reindex(index=order, columns=order, fill_value=0)\n",
    "\n",
    "r = p.values\n",
    "r = r + r.T"
   ]
  },
  {
   "cell_type": "code",
   "execution_count": 51,
   "metadata": {
    "collapsed": false,
    "deletable": true,
    "editable": true
   },
   "outputs": [
    {
     "data": {
      "image/png": "[encoded data removed]",
      "text/plain": [
       "<Figure size 432x288 with 1 Axes>"
      ]
     },
     "metadata": {},
     "output_type": "display_data"
    }
   ],
   "source": [
    "\n",
    "mask = np.zeros_like(p, dtype=np.bool)\n",
    "mask[np.tril_indices_from(mask)] = True\n",
    "\n",
    "sns.heatmap(r,mask=mask, cmap='Greys', vmin=.5, vmax=1, center=.75, square=True, linewidths=.5,\n",
    "                   cbar=False, annot=True, fmt='.2f')\n",
    "plt.gca().set_xticklabels(order, rotation=0)\n",
    "plt.xlabel('')\n",
    "\n",
    "plt.gca().set_yticklabels(order, rotation=0)\n",
    "plt.ylabel('')\n",
    "plt.gca().tick_params(axis='both', which='both', length=0)\n",
    "#plt.title('Classification: Ephys', weight='bold')\n",
    "plt.savefig('./pics/paper/ephys_classification.svg')\n"
   ]
  },
  {
   "cell_type": "code",
   "execution_count": 33,
   "metadata": {
    "collapsed": false,
    "deletable": true,
    "editable": true
   },
   "outputs": [
    {
     "data": {
      "text/plain": [
       "0.90791285215472506"
      ]
     },
     "execution_count": 33,
     "metadata": {},
     "output_type": "execute_result"
    }
   ],
   "source": [
    "values = p.values[p.values != 0]\n",
    "np.mean(values)"
   ]
  },
  {
   "cell_type": "code",
   "execution_count": 34,
   "metadata": {
    "collapsed": false,
    "deletable": true,
    "editable": true,
    "scrolled": true
   },
   "outputs": [
    {
     "data": {
      "text/plain": [
       "avg_test_score         0.907913\n",
       "avg_training_score     0.926014\n",
       "brier_score            0.092087\n",
       "f1_score               0.895893\n",
       "run_id                25.500000\n",
       "dtype: float64"
      ]
     },
     "execution_count": 34,
     "metadata": {},
     "output_type": "execute_result"
    }
   ],
   "source": [
    "data.mean()"
   ]
  },
  {
   "cell_type": "code",
   "execution_count": 52,
   "metadata": {
    "collapsed": false,
    "deletable": true,
    "editable": true,
    "scrolled": true
   },
   "outputs": [
    {
     "data": {
      "text/plain": [
       "0.67289928589928605"
      ]
     },
     "execution_count": 52,
     "metadata": {},
     "output_type": "execute_result"
    }
   ],
   "source": [
    "np.mean(values[values < .9])"
   ]
  },
  {
   "cell_type": "code",
   "execution_count": 53,
   "metadata": {
    "collapsed": false,
    "deletable": true,
    "editable": true
   },
   "outputs": [
    {
     "data": {
      "text/plain": [
       "0.97200746113348124"
      ]
     },
     "execution_count": 53,
     "metadata": {},
     "output_type": "execute_result"
    }
   ],
   "source": [
    "np.mean(values[values > .9])"
   ]
  }
 ],
 "metadata": {
  "kernelspec": {
   "display_name": "Python 3",
   "language": "python",
   "name": "python3"
  },
  "language_info": {
   "codemirror_mode": {
    "name": "ipython",
    "version": 3
   },
   "file_extension": ".py",
   "mimetype": "text/x-python",
   "name": "python",
   "nbconvert_exporter": "python",
   "pygments_lexer": "ipython3",
   "version": "3.5.2"
  }
 },
 "nbformat": 4,
 "nbformat_minor": 2
}
